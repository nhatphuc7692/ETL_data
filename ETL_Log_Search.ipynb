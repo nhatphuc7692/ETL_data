{
  "nbformat": 4,
  "nbformat_minor": 0,
  "metadata": {
    "colab": {
      "provenance": []
    },
    "kernelspec": {
      "name": "python3",
      "display_name": "Python 3"
    },
    "language_info": {
      "name": "python"
    }
  },
  "cells": [
    {
      "cell_type": "code",
      "execution_count": null,
      "metadata": {
        "id": "WvQGQMfx_ZOb",
        "colab": {
          "base_uri": "https://localhost:8080/"
        },
        "outputId": "38c3ef4d-f4b3-4501-fe58-a80581d0ba8e"
      },
      "outputs": [
        {
          "output_type": "stream",
          "name": "stdout",
          "text": [
            "Requirement already satisfied: pyspark in /usr/local/lib/python3.10/dist-packages (3.4.1)\n",
            "Requirement already satisfied: py4j==0.10.9.7 in /usr/local/lib/python3.10/dist-packages (from pyspark) (0.10.9.7)\n"
          ]
        }
      ],
      "source": [
        "pip install pyspark"
      ]
    },
    {
      "cell_type": "code",
      "source": [
        "from google.colab import drive\n",
        "drive.mount('/content/drive')"
      ],
      "metadata": {
        "colab": {
          "base_uri": "https://localhost:8080/"
        },
        "id": "H2yLyMUqSVjY",
        "outputId": "63022bf1-286e-4527-c561-3bfd54fc8067"
      },
      "execution_count": null,
      "outputs": [
        {
          "output_type": "stream",
          "name": "stdout",
          "text": [
            "Drive already mounted at /content/drive; to attempt to forcibly remount, call drive.mount(\"/content/drive\", force_remount=True).\n"
          ]
        }
      ]
    },
    {
      "cell_type": "code",
      "source": [
        "from pyspark.sql import SparkSession\n",
        "from pyspark.sql.functions import col\n",
        "from pyspark.sql.functions import when\n",
        "import pyspark.sql.functions as sf\n",
        "import os\n",
        "from pyspark.sql.functions import rank\n",
        "from pyspark.sql.window import Window\n",
        "from pyspark.sql.functions import desc\n",
        "from pyspark.sql.functions import collect_list"
      ],
      "metadata": {
        "id": "o7xktG67aHgx"
      },
      "execution_count": null,
      "outputs": []
    },
    {
      "cell_type": "code",
      "source": [
        "spark = SparkSession.builder.getOrCreate()"
      ],
      "metadata": {
        "id": "NAlx7tqWap6m"
      },
      "execution_count": null,
      "outputs": []
    },
    {
      "cell_type": "code",
      "source": [
        "path = '/content/drive/MyDrive/log_search/'"
      ],
      "metadata": {
        "id": "D6rAKh_xa7zN"
      },
      "execution_count": null,
      "outputs": []
    },
    {
      "cell_type": "code",
      "source": [
        "df = spark.read.parquet('/content/drive/MyDrive/log_search/20220601')"
      ],
      "metadata": {
        "id": "QSAxn4yEa8sG"
      },
      "execution_count": null,
      "outputs": []
    },
    {
      "cell_type": "code",
      "source": [
        "df = df.select('datetime','user_id','keyword')"
      ],
      "metadata": {
        "id": "CcL5DEm6a9Ab"
      },
      "execution_count": null,
      "outputs": []
    },
    {
      "cell_type": "code",
      "source": [
        "df.show()"
      ],
      "metadata": {
        "colab": {
          "base_uri": "https://localhost:8080/"
        },
        "id": "EPJ66xjla9IB",
        "outputId": "e6d2bff5-1393-4b1b-86a4-4f278e5fc077"
      },
      "execution_count": null,
      "outputs": [
        {
          "output_type": "stream",
          "name": "stdout",
          "text": [
            "+--------------------+--------+--------------------+\n",
            "|            datetime| user_id|             keyword|\n",
            "+--------------------+--------+--------------------+\n",
            "|2022-06-01 18:59:...|    null|            trữ tình|\n",
            "|2022-06-01 18:59:...|44887906|            trữ tình|\n",
            "|2022-06-01 18:59:...| 2719170|              bolero|\n",
            "|2022-06-01 15:00:...|    null|amy schumer: trực...|\n",
            "|2022-06-01 19:00:...| 8830996|cậu mang à sĩ hanako|\n",
            "|2022-06-01 19:00:...|    null|      Hoa trong bao |\n",
            "|2022-06-01 19:00:...|41559909|liên minh công lý...|\n",
            "|2022-06-01 19:00:...|92715770|                null|\n",
            "|2022-06-01 19:00:...|49026196|    việt nam vs appa|\n",
            "|2022-06-01 19:00:...|    null|chuyển sinh thành...|\n",
            "|2022-06-01 19:00:...|41376437|nhất kiến khuynh tâm|\n",
            "|2022-06-01 19:00:...| 1254139|                giác|\n",
            "|2022-06-01 19:00:...|42534799|            nexsport|\n",
            "|2022-06-01 19:00:...|49190631|Tìm kiếm bằng giọ...|\n",
            "|2022-06-01 19:00:...|    null|Lương Sơn Bá Chúc...|\n",
            "|2022-06-01 19:00:...|91485275|một mảnh băng tâm...|\n",
            "|2022-06-01 19:00:...|45282582|            sáng tạo|\n",
            "|2022-06-01 19:00:...|41851691|                null|\n",
            "|2022-06-01 19:03:...| 2599280|            truc tep|\n",
            "|2022-06-01 19:01:...|41681697|                null|\n",
            "+--------------------+--------+--------------------+\n",
            "only showing top 20 rows\n",
            "\n"
          ]
        }
      ]
    },
    {
      "cell_type": "code",
      "source": [
        "data = os.listdir(path)\n",
        "data.sort()"
      ],
      "metadata": {
        "id": "4Rb8sTaaa9NR"
      },
      "execution_count": null,
      "outputs": []
    },
    {
      "cell_type": "code",
      "source": [
        "list_t6 = data[0:14]"
      ],
      "metadata": {
        "id": "7ZuGY9j8e3UA"
      },
      "execution_count": null,
      "outputs": []
    },
    {
      "cell_type": "code",
      "source": [
        "list_t7 = data[14:]"
      ],
      "metadata": {
        "id": "gtoVlbj1pPCT"
      },
      "execution_count": null,
      "outputs": []
    },
    {
      "cell_type": "code",
      "source": [
        "from pyspark.sql.types import StructType, StructField, TimestampType, StringType\n",
        "schema = StructType([\n",
        "    StructField(\"datetime\", TimestampType(), True),\n",
        "    StructField(\"user_id\", StringType(), True),\n",
        "    StructField(\"keyword\", StringType(), True)\n",
        "])"
      ],
      "metadata": {
        "id": "TgQFgvR3e3fj"
      },
      "execution_count": null,
      "outputs": []
    },
    {
      "cell_type": "code",
      "source": [
        "data_t6 = spark.createDataFrame([], schema)"
      ],
      "metadata": {
        "id": "5GEqrG3cr8rk"
      },
      "execution_count": null,
      "outputs": []
    },
    {
      "cell_type": "code",
      "source": [
        "for i in list_t6:\n",
        "  df = spark.read.parquet(path+i)\n",
        "  df = df.select('datetime','user_id','keyword')\n",
        "  data_t6 = data_t6.union(df)\n",
        "  print('Read data {}'.format(i))"
      ],
      "metadata": {
        "colab": {
          "base_uri": "https://localhost:8080/"
        },
        "id": "8ynDCJdFr9EC",
        "outputId": "21266ef9-e6ec-4a77-9779-9916ba456a69"
      },
      "execution_count": null,
      "outputs": [
        {
          "output_type": "stream",
          "name": "stdout",
          "text": [
            "Read data 20220601\n",
            "Read data 20220602\n",
            "Read data 20220603\n",
            "Read data 20220604\n",
            "Read data 20220605\n",
            "Read data 20220606\n",
            "Read data 20220607\n",
            "Read data 20220608\n",
            "Read data 20220609\n",
            "Read data 20220610\n",
            "Read data 20220611\n",
            "Read data 20220612\n",
            "Read data 20220613\n",
            "Read data 20220614\n"
          ]
        }
      ]
    },
    {
      "cell_type": "code",
      "source": [
        "data_t6.count()"
      ],
      "metadata": {
        "colab": {
          "base_uri": "https://localhost:8080/"
        },
        "id": "lkCbLddjr9HT",
        "outputId": "f6584a57-59ad-4cad-8341-d86dbdda87bb"
      },
      "execution_count": null,
      "outputs": [
        {
          "output_type": "execute_result",
          "data": {
            "text/plain": [
              "1146996"
            ]
          },
          "metadata": {},
          "execution_count": 16
        }
      ]
    },
    {
      "cell_type": "code",
      "source": [
        "data_t6.show()"
      ],
      "metadata": {
        "colab": {
          "base_uri": "https://localhost:8080/"
        },
        "id": "_qm1HTQKr9Kc",
        "outputId": "8c0dc339-10f5-48ae-fa77-e16f8df15f45"
      },
      "execution_count": null,
      "outputs": [
        {
          "output_type": "stream",
          "name": "stdout",
          "text": [
            "+--------------------+--------+--------------------+\n",
            "|            datetime| user_id|             keyword|\n",
            "+--------------------+--------+--------------------+\n",
            "|2022-06-01 18:59:...|    null|            trữ tình|\n",
            "|2022-06-01 18:59:...|44887906|            trữ tình|\n",
            "|2022-06-01 18:59:...| 2719170|              bolero|\n",
            "|2022-06-01 15:00:...|    null|amy schumer: trực...|\n",
            "|2022-06-01 19:00:...| 8830996|cậu mang à sĩ hanako|\n",
            "|2022-06-01 19:00:...|    null|      Hoa trong bao |\n",
            "|2022-06-01 19:00:...|41559909|liên minh công lý...|\n",
            "|2022-06-01 19:00:...|92715770|                null|\n",
            "|2022-06-01 19:00:...|49026196|    việt nam vs appa|\n",
            "|2022-06-01 19:00:...|    null|chuyển sinh thành...|\n",
            "|2022-06-01 19:00:...|41376437|nhất kiến khuynh tâm|\n",
            "|2022-06-01 19:00:...| 1254139|                giác|\n",
            "|2022-06-01 19:00:...|42534799|            nexsport|\n",
            "|2022-06-01 19:00:...|49190631|Tìm kiếm bằng giọ...|\n",
            "|2022-06-01 19:00:...|    null|Lương Sơn Bá Chúc...|\n",
            "|2022-06-01 19:00:...|91485275|một mảnh băng tâm...|\n",
            "|2022-06-01 19:00:...|45282582|            sáng tạo|\n",
            "|2022-06-01 19:00:...|41851691|                null|\n",
            "|2022-06-01 19:03:...| 2599280|            truc tep|\n",
            "|2022-06-01 19:01:...|41681697|                null|\n",
            "+--------------------+--------+--------------------+\n",
            "only showing top 20 rows\n",
            "\n"
          ]
        }
      ]
    },
    {
      "cell_type": "code",
      "source": [
        "data_t6 = data_t6.filter(data_t6.user_id.isNotNull())\n",
        "data_t6 = data_t6.filter(data_t6.keyword.isNotNull())"
      ],
      "metadata": {
        "id": "3eVyjQ8Mr9OE"
      },
      "execution_count": null,
      "outputs": []
    },
    {
      "cell_type": "code",
      "source": [
        "data_t6.count()"
      ],
      "metadata": {
        "colab": {
          "base_uri": "https://localhost:8080/"
        },
        "id": "ROLhXg9mty1k",
        "outputId": "25b935ea-07f9-48c8-ec45-9eebb3b1f89a"
      },
      "execution_count": null,
      "outputs": [
        {
          "output_type": "execute_result",
          "data": {
            "text/plain": [
              "790587"
            ]
          },
          "metadata": {},
          "execution_count": 19
        }
      ]
    },
    {
      "cell_type": "code",
      "source": [
        "data_t7 = spark.createDataFrame([], schema)\n",
        "for i in list_t7:\n",
        "  df = spark.read.parquet(path+i)\n",
        "  df = df.select('datetime','user_id','keyword')\n",
        "  data_t7 = data_t7.union(df)\n",
        "  print('Read data {}'.format(i))"
      ],
      "metadata": {
        "colab": {
          "base_uri": "https://localhost:8080/"
        },
        "id": "r8YSv4eYty6t",
        "outputId": "ba3120df-83a5-489b-b362-6aae9f0fb400"
      },
      "execution_count": null,
      "outputs": [
        {
          "output_type": "stream",
          "name": "stdout",
          "text": [
            "Read data 20220701\n",
            "Read data 20220702\n",
            "Read data 20220703\n",
            "Read data 20220704\n",
            "Read data 20220705\n",
            "Read data 20220706\n",
            "Read data 20220707\n",
            "Read data 20220708\n",
            "Read data 20220709\n",
            "Read data 20220710\n",
            "Read data 20220711\n",
            "Read data 20220712\n",
            "Read data 20220713\n",
            "Read data 20220714\n"
          ]
        }
      ]
    },
    {
      "cell_type": "code",
      "source": [
        "data_t7.count()"
      ],
      "metadata": {
        "colab": {
          "base_uri": "https://localhost:8080/"
        },
        "id": "b02sNl-DuEib",
        "outputId": "a5f34b13-29c2-4adf-ebf0-74a94270b20c"
      },
      "execution_count": null,
      "outputs": [
        {
          "output_type": "execute_result",
          "data": {
            "text/plain": [
              "1219976"
            ]
          },
          "metadata": {},
          "execution_count": 21
        }
      ]
    },
    {
      "cell_type": "code",
      "source": [
        "data_t7 = data_t7.filter(data_t7.user_id.isNotNull())\n",
        "data_t7 = data_t7.filter(data_t7.keyword.isNotNull())\n",
        "data_t7.count()"
      ],
      "metadata": {
        "colab": {
          "base_uri": "https://localhost:8080/"
        },
        "id": "GyHYAT5luE0D",
        "outputId": "9143bdf7-7a45-47f1-ae0b-fb97cfcd3ef3"
      },
      "execution_count": null,
      "outputs": [
        {
          "output_type": "execute_result",
          "data": {
            "text/plain": [
              "855321"
            ]
          },
          "metadata": {},
          "execution_count": 22
        }
      ]
    },
    {
      "cell_type": "code",
      "source": [
        "most_search_t6 = data_t6.select('user_id','keyword')\n",
        "most_search_t6 = most_search_t6.groupby('user_id','keyword').count()\n",
        "most_search_t6 = most_search_t6.withColumnRenamed('count','TotalSearch')"
      ],
      "metadata": {
        "id": "lPC635Bq2y7H"
      },
      "execution_count": null,
      "outputs": []
    },
    {
      "cell_type": "code",
      "source": [
        "most_search_t6.orderBy('user_id', ascending=False).show()"
      ],
      "metadata": {
        "colab": {
          "base_uri": "https://localhost:8080/"
        },
        "id": "728isiuq3JEw",
        "outputId": "a8815d4c-fdf4-44fd-eda4-22bc266ebeca"
      },
      "execution_count": null,
      "outputs": [
        {
          "output_type": "stream",
          "name": "stdout",
          "text": [
            "+--------+--------------------+-----------+\n",
            "| user_id|             keyword|TotalSearch|\n",
            "+--------+--------------------+-----------+\n",
            "|99999941|       cẩm tú nam ca|          1|\n",
            "|99999941|             vi uong|          1|\n",
            "|99999941|    thien menh hoang|          1|\n",
            "|99999941|          thien mẻnh|          1|\n",
            "|99999941|lấy danh nghĩa ng...|          1|\n",
            "|99999941|        linh hon bac|          1|\n",
            "|99999941|             gintama|          1|\n",
            "|99999793|      sở kiều truyện|          1|\n",
            "|99999793|cô nàng trong trắ...|          1|\n",
            "|99999793|               conan|          2|\n",
            "|99999793|     bằng chứng thép|          1|\n",
            "|99999793|       thám tử conan|          1|\n",
            "|99999793|     vân tịch truyện|          4|\n",
            "|99999793|    như ý phương phi|          1|\n",
            "|99999793| hải thượng phồn hoa|          1|\n",
            "|99999793|cuối cùng cũng đế...|          1|\n",
            "|99999759|bí mật không thể nói|          1|\n",
            "|99999759|cô nàng trong trắ...|          3|\n",
            "|99999351|     phim thanh xuân|          1|\n",
            "|99999351|thanh xuân năm ấy...|          1|\n",
            "+--------+--------------------+-----------+\n",
            "only showing top 20 rows\n",
            "\n"
          ]
        }
      ]
    },
    {
      "cell_type": "code",
      "source": [
        "from pyspark.sql import Window\n",
        "from pyspark.sql.functions import row_number\n",
        "windowSpec = Window.partitionBy('user_id').orderBy(col('TotalSearch').desc())"
      ],
      "metadata": {
        "id": "TNzXQ7Fb3lbX"
      },
      "execution_count": null,
      "outputs": []
    },
    {
      "cell_type": "code",
      "source": [
        "most_search_t6 = most_search_t6.withColumn(\"Row_Number\", row_number().over(windowSpec))\n",
        "most_search_t6 = most_search_t6.filter(most_search_t6.Row_Number==1)"
      ],
      "metadata": {
        "id": "3zplhrFO6W3V"
      },
      "execution_count": null,
      "outputs": []
    },
    {
      "cell_type": "code",
      "source": [
        "most_search_t6 = most_search_t6.select('user_id','keyword')\n",
        "most_search_t6 = most_search_t6.withColumnRenamed('keyword','most_search_t6')\n",
        "most_search_t6.show()"
      ],
      "metadata": {
        "colab": {
          "base_uri": "https://localhost:8080/"
        },
        "id": "1-acvVQx6q8R",
        "outputId": "8663d864-675f-41f3-c3c2-b68263adb925"
      },
      "execution_count": null,
      "outputs": [
        {
          "output_type": "stream",
          "name": "stdout",
          "text": [
            "+-------+--------------------+\n",
            "|user_id|      most_search_t6|\n",
            "+-------+--------------------+\n",
            "|0000402|tieu nuong tu nha...|\n",
            "|0000825|    cùng nhau ăn lẩu|\n",
            "|0000924|      nơi vì sao rơi|\n",
            "| 000104|                 HAU|\n",
            "|0001969|attack on titan (...|\n",
            "|0002189|toà án vị thành niên|\n",
            "|0002235|nhanh và nguy hiểm 9|\n",
            "|0003361|         tây hành kỷ|\n",
            "|0003371|                 vtv|\n",
            "|0003691| thế giới khủng long|\n",
            "|0004007| tom and jerry tales|\n",
            "|0004287|          thuyếtminh|\n",
            "|0005178|              BORUTO|\n",
            "|0005186|hạnh phúc trong t...|\n",
            "|0005187|          Kim Tae Ri|\n",
            "|0005748|   lời nguyền ma lai|\n",
            "|0006530|us women's open 2...|\n",
            "|0006594|   phim mộng hoa lục|\n",
            "|0006773|                  30|\n",
            "|0007284| hen ho chon cong so|\n",
            "+-------+--------------------+\n",
            "only showing top 20 rows\n",
            "\n"
          ]
        }
      ]
    },
    {
      "cell_type": "code",
      "source": [
        "most_search_t7 = data_t7.select('user_id','keyword')\n",
        "most_search_t7 = most_search_t7.groupby('user_id','keyword').count()\n",
        "most_search_t7 = most_search_t7.withColumnRenamed('count','TotalSearch')\n",
        "most_search_t7 = most_search_t7.withColumn(\"Row_Number\", row_number().over(windowSpec))\n",
        "most_search_t7 = most_search_t7.filter(most_search_t7.Row_Number==1)\n",
        "most_search_t7 = most_search_t7.select('user_id','keyword')\n",
        "most_search_t7 = most_search_t7.withColumnRenamed('keyword','most_search_t7')\n",
        "most_search_t7.show()"
      ],
      "metadata": {
        "colab": {
          "base_uri": "https://localhost:8080/"
        },
        "id": "xBWCPt-79dmN",
        "outputId": "c3d5c41e-b074-4912-c549-043d90590036"
      },
      "execution_count": null,
      "outputs": [
        {
          "output_type": "stream",
          "name": "stdout",
          "text": [
            "+-------+--------------------+\n",
            "|user_id|      most_search_t7|\n",
            "+-------+--------------------+\n",
            "|0000699|             thả thí|\n",
            "|0000786|theo dấu vương qu...|\n",
            "|0001109|hương mật tựa khó...|\n",
            "|0001213|Liên Minh Công Lý...|\n",
            "|0001465|  viet nam vs mianma|\n",
            "|0001487|      con tim sắt đá|\n",
            "|0001606|hương mật tựa khó...|\n",
            "|0001969|               GIO P|\n",
            "|0003361|         lộc đỉnh ký|\n",
            "|0003371|hoang anh gia lai...|\n",
            "|0003437|phương trình tình...|\n",
            "|0003691|tiếng gọi nơi hoa...|\n",
            "|0004007|            doraemon|\n",
            "|0004285|                 eve|\n",
            "|0004521|          CHEN THANH|\n",
            "|0004675|        container 39|\n",
            "|0004999|   vụ mất tích bí ẩn|\n",
            "|0005187|high school king ...|\n",
            "|0005566|        U19 THAI LAN|\n",
            "|0005748|chuyen sinh thanh...|\n",
            "+-------+--------------------+\n",
            "only showing top 20 rows\n",
            "\n"
          ]
        }
      ]
    },
    {
      "cell_type": "code",
      "source": [
        "result = most_search_t6.join(most_search_t7,'user_id','inner')"
      ],
      "metadata": {
        "id": "TemIskUu-smy"
      },
      "execution_count": null,
      "outputs": []
    },
    {
      "cell_type": "code",
      "source": [
        "result.repartition(1).write.csv('/content/drive/MyDrive/log_search', header=True,mode=\"overwrite\")"
      ],
      "metadata": {
        "id": "einlJ-OtCbmx"
      },
      "execution_count": null,
      "outputs": []
    },
    {
      "cell_type": "markdown",
      "source": [
        "##Summary Trending"
      ],
      "metadata": {
        "id": "0Iwfhmk02VE-"
      }
    },
    {
      "cell_type": "code",
      "source": [
        "trend_t6 = data_t6.select('datetime','keyword')"
      ],
      "metadata": {
        "id": "ym7Tpq-pvBqL"
      },
      "execution_count": null,
      "outputs": []
    },
    {
      "cell_type": "code",
      "source": [
        "from pyspark.sql.functions import col, date_format\n",
        "from pyspark.sql.types import DateType\n",
        "trend_t6 = trend_t6.withColumn(\"datetime\", date_format(col(\"datetime\"), \"yyyy-MM-dd\").cast(DateType()))"
      ],
      "metadata": {
        "id": "BSUiEXb1vBzy"
      },
      "execution_count": null,
      "outputs": []
    },
    {
      "cell_type": "code",
      "source": [
        "trend_t6 = trend_t6.groupby('keyword').count().orderBy('count',ascending=False)"
      ],
      "metadata": {
        "id": "75Guqtx-vB3e"
      },
      "execution_count": null,
      "outputs": []
    },
    {
      "cell_type": "code",
      "source": [
        "trend_t7 = data_t7.select('datetime','keyword')\n",
        "trend_t7 = trend_t7.withColumn(\"datetime\", date_format(col(\"datetime\"), \"yyyy-MM-dd\").cast(DateType()))\n",
        "trend_t7 = trend_t6.groupby('keyword').count().orderBy('count',ascending=False)"
      ],
      "metadata": {
        "id": "2U4iECYLvB7Q"
      },
      "execution_count": null,
      "outputs": []
    },
    {
      "cell_type": "code",
      "source": [
        "trend_t7.show()"
      ],
      "metadata": {
        "colab": {
          "base_uri": "https://localhost:8080/"
        },
        "id": "t8-7sWaGvB_n",
        "outputId": "4ed988ce-9438-48c6-9b21-19a642cbed55"
      },
      "execution_count": null,
      "outputs": [
        {
          "output_type": "stream",
          "name": "stdout",
          "text": [
            "+--------------------+-----+\n",
            "|             keyword|count|\n",
            "+--------------------+-----+\n",
            "|    bong da viet nam|    1|\n",
            "|                 vt |    1|\n",
            "| Giao hữu bóng đá VN|    1|\n",
            "|   gái già lắm chiêu|    1|\n",
            "|      phim lưới trời|    1|\n",
            "|    VIET NAM VS AFGH|    1|\n",
            "|   nữ vệ sĩ sinh dep|    1|\n",
            "|     bóng dá hôm nay|    1|\n",
            "|biệt đội thiếu ni...|    1|\n",
            "|guardians of the ...|    1|\n",
            "|     bóng đá tối nay|    1|\n",
            "|cuộc chiến thượng...|    1|\n",
            "|Cô Nàng Đầu Bếp C...|    1|\n",
            "|                GAME|    1|\n",
            "| da bong truc tie...|    1|\n",
            "|    mị nguyệt truyện|    1|\n",
            "|viet nam và afgan...|    1|\n",
            "|    Phụng Hoàng lửa |    1|\n",
            "|                   K|    1|\n",
            "|trực tiếp bóng đá...|    1|\n",
            "+--------------------+-----+\n",
            "only showing top 20 rows\n",
            "\n"
          ]
        }
      ]
    },
    {
      "cell_type": "code",
      "source": [
        "trend_t6.show()"
      ],
      "metadata": {
        "colab": {
          "base_uri": "https://localhost:8080/"
        },
        "id": "QGU6EGghvCFk",
        "outputId": "8310ce3d-1aa2-4a19-a7e3-235580fdeb12"
      },
      "execution_count": null,
      "outputs": [
        {
          "output_type": "stream",
          "name": "stdout",
          "text": [
            "+--------------------+-----+\n",
            "|             keyword|count|\n",
            "+--------------------+-----+\n",
            "|Liên Minh Công Lý...| 8741|\n",
            "|          fairy tail| 6771|\n",
            "|  thiên nga bóng đêm| 5471|\n",
            "|            sao băng| 4909|\n",
            "| nữ thanh tra tài ba| 4895|\n",
            "|       bắt ma phá án| 4837|\n",
            "|           siêu nhân| 3938|\n",
            "|        mộng hoa lục| 3411|\n",
            "|cuộc chiến thượng...| 3001|\n",
            "|cô nàng trong trắ...| 2950|\n",
            "|vô tình nhặt được...| 2646|\n",
            "|         hội pháp sư| 2556|\n",
            "|tôi thấy hoa vàng...| 2540|\n",
            "|            why her?| 2449|\n",
            "|lấy danh nghĩa ng...| 2443|\n",
            "|bạn trai tôi là h...| 2304|\n",
            "|cảnh đẹp ngày vui...| 2262|\n",
            "|           chàng hậu| 2226|\n",
            "|    yêu nhầm chị dâu| 2179|\n",
            "|Tìm kiếm bằng giọ...| 2105|\n",
            "+--------------------+-----+\n",
            "only showing top 20 rows\n",
            "\n"
          ]
        }
      ]
    },
    {
      "cell_type": "code",
      "source": [],
      "metadata": {
        "id": "nr4R3CGy032m"
      },
      "execution_count": null,
      "outputs": []
    }
  ]
}