{
  "nbformat": 4,
  "nbformat_minor": 0,
  "metadata": {
    "colab": {
      "provenance": []
    },
    "kernelspec": {
      "name": "python3",
      "display_name": "Python 3"
    },
    "language_info": {
      "name": "python"
    }
  },
  "cells": [
    {
      "cell_type": "code",
      "execution_count": null,
      "metadata": {
        "colab": {
          "base_uri": "https://localhost:8080/"
        },
        "id": "AMQRtSGzK8Pw",
        "outputId": "ad19884d-11e8-45c5-9008-60a8012eb3c7"
      },
      "outputs": [
        {
          "output_type": "stream",
          "name": "stdout",
          "text": [
            "Collecting pyspark\n",
            "  Downloading pyspark-3.4.1.tar.gz (310.8 MB)\n",
            "\u001b[2K     \u001b[90m━━━━━━━━━━━━━━━━━━━━━━━━━━━━━━━━━━━━━━━\u001b[0m \u001b[32m310.8/310.8 MB\u001b[0m \u001b[31m3.7 MB/s\u001b[0m eta \u001b[36m0:00:00\u001b[0m\n",
            "\u001b[?25h  Preparing metadata (setup.py) ... \u001b[?25l\u001b[?25hdone\n",
            "Requirement already satisfied: py4j==0.10.9.7 in /usr/local/lib/python3.10/dist-packages (from pyspark) (0.10.9.7)\n",
            "Building wheels for collected packages: pyspark\n",
            "  Building wheel for pyspark (setup.py) ... \u001b[?25l\u001b[?25hdone\n",
            "  Created wheel for pyspark: filename=pyspark-3.4.1-py2.py3-none-any.whl size=311285397 sha256=ba4ca6bd900efe4248081517b2adfe814194117b6e9a4b812559b42781ee37c8\n",
            "  Stored in directory: /root/.cache/pip/wheels/0d/77/a3/ff2f74cc9ab41f8f594dabf0579c2a7c6de920d584206e0834\n",
            "Successfully built pyspark\n",
            "Installing collected packages: pyspark\n",
            "Successfully installed pyspark-3.4.1\n"
          ]
        }
      ],
      "source": [
        "pip install pyspark"
      ]
    },
    {
      "cell_type": "code",
      "source": [
        "from pyspark.sql import SparkSession\n",
        "from pyspark.sql.functions import col\n",
        "from pyspark.sql.functions import when\n",
        "import pyspark.sql.functions as sf\n",
        "import os"
      ],
      "metadata": {
        "id": "DKMS9kGKLFOA"
      },
      "execution_count": null,
      "outputs": []
    },
    {
      "cell_type": "code",
      "source": [
        "spark = SparkSession.builder.getOrCreate()"
      ],
      "metadata": {
        "id": "ZgNm7yvELUue"
      },
      "execution_count": null,
      "outputs": []
    },
    {
      "cell_type": "code",
      "source": [
        "from google.colab import drive\n",
        "drive.mount('/content/drive')"
      ],
      "metadata": {
        "colab": {
          "base_uri": "https://localhost:8080/"
        },
        "id": "T7_FT4y3LfOp",
        "outputId": "ae7076c3-eccd-4f7b-b76d-f9e138124405"
      },
      "execution_count": null,
      "outputs": [
        {
          "output_type": "stream",
          "name": "stdout",
          "text": [
            "Mounted at /content/drive\n"
          ]
        }
      ]
    },
    {
      "cell_type": "code",
      "source": [
        "path = '/content/drive/MyDrive/log_content/'"
      ],
      "metadata": {
        "id": "tcAagk4TLpG_"
      },
      "execution_count": null,
      "outputs": []
    },
    {
      "cell_type": "code",
      "source": [
        "def etl_1_day(path ,file_name):\n",
        "    #print('---------------------')\n",
        "    #print('Read data from Kafka')\n",
        "    #print('---------------------')\n",
        "    df = spark.read.json(path+file_name)\n",
        "    #print('---------------------')\n",
        "    #print('Showing top 5')\n",
        "    #print('---------------------')\n",
        "    #df.show()\n",
        "    #print('---------------------')\n",
        "    #print('Showing data structure')\n",
        "    #print('---------------------')\n",
        "    #df.printSchema()\n",
        "    #print('---------------------')\n",
        "    #print('Showing data value')\n",
        "    #print('---------------------')\n",
        "    df = df.select('_source.*')\n",
        "    # df.show()\n",
        "    # print('---------------------')\n",
        "    # print('ETL Start')\n",
        "    # print('---------------------')\n",
        "    df = df.withColumn(\"Type\",\n",
        "           when((col(\"AppName\") == 'CHANNEL') | (col(\"AppName\") =='DSHD')| (col(\"AppName\") =='KPLUS')| (col(\"AppName\") =='KPlus'), \"Truyền Hình\")\n",
        "        .when((col(\"AppName\") == 'VOD') | (col(\"AppName\") =='FIMS_RES')| (col(\"AppName\") =='BHD_RES')|\n",
        "              (col(\"AppName\") =='VOD_RES')| (col(\"AppName\") =='FIMS')| (col(\"AppName\") =='BHD')| (col(\"AppName\") =='DANET'), \"Phim Truyện\")\n",
        "        .when((col(\"AppName\") == 'RELAX'), \"Giải Trí\")\n",
        "        .when((col(\"AppName\") == 'CHILD'), \"Thiếu Nhi\")\n",
        "        .when((col(\"AppName\") == 'SPORT'), \"Thể Thao\")\n",
        "        .otherwise(\"Error\"))\n",
        "    # print('---------------------')\n",
        "    # print('Showing new data structure')\n",
        "    # print('---------------------')\n",
        "    df = df.select('Contract','Type','TotalDuration')\n",
        "    df = df.filter(df.Type != 'Error')\n",
        "    # df.printSchema()\n",
        "    # df.select('Contract','Type','TotalDuration').show(5)\n",
        "    # df = df.groupBy('Contract','Type').sum()\n",
        "    # df = df.withColumnRenamed('sum(TotalDuration)','TotalDuration')\n",
        "    # df = df.cache()\n",
        "    # print('---------------------')\n",
        "    # print('Pivoting Data')\n",
        "    # print('---------------------')\n",
        "    # result = df.groupBy(\"Contract\").pivot(\"Type\").sum(\"TotalDuration\")\n",
        "    # print('---------------------')\n",
        "    # print('Showing result')\n",
        "    # print('---------------------')\n",
        "    # result.show(5)\n",
        "    print('Finished Processing {}'.format(file_name))\n",
        "    return df"
      ],
      "metadata": {
        "id": "gwq4jgZqNrDi"
      },
      "execution_count": null,
      "outputs": []
    },
    {
      "cell_type": "code",
      "source": [
        "list_file = os.listdir(path)\n",
        "list_file.sort()\n",
        "file_name = list_file[0]\n",
        "result1 = etl_1_day(path ,file_name)\n",
        "for i in list_file[1:]:\n",
        "    file_name2 = i\n",
        "    result2 = etl_1_day(path ,file_name2)\n",
        "    result1 = result1.union(result2)\n",
        "result1 = result1.groupby('Contract','Type').sum()\n",
        "result1 = result1.withColumnRenamed('sum(TotalDuration)','TotalDuration')\n",
        "final = result1.groupBy(\"Contract\").pivot(\"Type\").sum(\"TotalDuration\")"
      ],
      "metadata": {
        "colab": {
          "base_uri": "https://localhost:8080/"
        },
        "id": "gg2pNa3MMiTG",
        "outputId": "4e859924-32c7-48a8-d149-2ac2b6114302"
      },
      "execution_count": null,
      "outputs": [
        {
          "output_type": "stream",
          "name": "stdout",
          "text": [
            "Finished Processing 20220401.json\n",
            "Finished Processing 20220402.json\n",
            "Finished Processing 20220403.json\n",
            "Finished Processing 20220404.json\n",
            "Finished Processing 20220405.json\n",
            "Finished Processing 20220406.json\n",
            "Finished Processing 20220407.json\n",
            "Finished Processing 20220408.json\n",
            "Finished Processing 20220409.json\n",
            "Finished Processing 20220410.json\n",
            "Finished Processing 20220411.json\n",
            "Finished Processing 20220412.json\n",
            "Finished Processing 20220413.json\n",
            "Finished Processing 20220414.json\n",
            "Finished Processing 20220415.json\n"
          ]
        }
      ]
    },
    {
      "cell_type": "code",
      "source": [
        "#final.show(10)"
      ],
      "metadata": {
        "colab": {
          "base_uri": "https://localhost:8080/"
        },
        "id": "5fY6wydGMr2p",
        "outputId": "54a42eb6-ad9e-44de-a459-a88f2cb2b8bc"
      },
      "execution_count": null,
      "outputs": [
        {
          "output_type": "stream",
          "name": "stdout",
          "text": [
            "+---------+--------+-----------+---------+--------+-----------+\n",
            "| Contract|Giải Trí|Phim Truyện|Thiếu Nhi|Thể Thao|Truyền Hình|\n",
            "+---------+--------+-----------+---------+--------+-----------+\n",
            "|HTFD11598|    null|      14367|     null|    null|      16104|\n",
            "|HPFD48556|      69|       null|     null|    null|     595153|\n",
            "|NBFD10014|    null|       null|     null|    null|     704933|\n",
            "|HNH619088|    null|      77275|     3657|    null|     546772|\n",
            "|HNH036174|    null|      37842|     null|    null|     172263|\n",
            "|DNH067877|    null|       null|     null|    null|      73160|\n",
            "|SGH806190|    null|       null|     null|    null|      71306|\n",
            "|HNH582022|    null|       null|     null|    null|    1188137|\n",
            "|HNH795510|    null|      29937|      265|    null|     577161|\n",
            "|DNFD91557|    null|       null|     null|    null|      31842|\n",
            "+---------+--------+-----------+---------+--------+-----------+\n",
            "only showing top 10 rows\n",
            "\n"
          ]
        }
      ]
    },
    {
      "cell_type": "code",
      "source": [
        "final = final.withColumnRenamed('Giải Trí','RelaxDuration').\\\n",
        "      withColumnRenamed('Phim Truyện','MovieDuration').\\\n",
        "          withColumnRenamed('Thiếu Nhi','ChildDuration').\\\n",
        "              withColumnRenamed('Thể Thao','SportDuration').\\\n",
        "                  withColumnRenamed('Truyền Hình','TVDuration')"
      ],
      "metadata": {
        "id": "I8vN8vjCOnsx"
      },
      "execution_count": null,
      "outputs": []
    },
    {
      "cell_type": "code",
      "source": [
        "a = final.select('Contract','TVDuration').withColumn('Category',sf.lit('TV')).withColumnRenamed('TVDuration','TotalDuration')\n",
        "b = final.select('Contract','RelaxDuration').withColumn('Category',sf.lit('Relax')).withColumnRenamed('RelaxDuration','TotalDuration')\n",
        "c = final.select('Contract','MovieDuration').withColumn('Category',sf.lit('Movie')).withColumnRenamed('MovieDuration','TotalDuration')\n",
        "d = final.select('Contract','ChildDuration').withColumn('Category',sf.lit('Child')).withColumnRenamed('ChildDuration','TotalDuration')\n",
        "e = final.select('Contract','SportDuration').withColumn('Category',sf.lit('Sport')).withColumnRenamed('SportDuration','TotalDuration')\n",
        "unpivot_data = a.union(b).union(c).union(d).union(e)"
      ],
      "metadata": {
        "id": "JBXcML10O1Nf"
      },
      "execution_count": null,
      "outputs": []
    },
    {
      "cell_type": "code",
      "source": [
        "from pyspark.sql.functions import rank\n",
        "from pyspark.sql.window import Window\n",
        "from pyspark.sql.functions import desc\n",
        "from pyspark.sql.functions import collect_list"
      ],
      "metadata": {
        "id": "8WWj0aSgPie7"
      },
      "execution_count": null,
      "outputs": []
    },
    {
      "cell_type": "code",
      "source": [
        "windowSpec = Window.partitionBy('Contract').orderBy(desc('TotalDuration'))\n",
        "most_watch = unpivot_data.withColumn('rank',rank().over(windowSpec))\n",
        "most_watch = most_watch.filter(col('rank')==1)\n",
        "most_watch = most_watch.withColumnRenamed('Category','Most_Watch')\n",
        "most_watch = most_watch.select('Contract','most_watch')"
      ],
      "metadata": {
        "id": "6ft-BsJVPnkw"
      },
      "execution_count": null,
      "outputs": []
    },
    {
      "cell_type": "code",
      "source": [
        "from pyspark.sql.types import FractionalType\n",
        "caculate_taste = final.withColumn('RelaxDuration',when(final.RelaxDuration.isNotNull(),'Relax').otherwise(final.RelaxDuration))\n",
        "caculate_taste = final.withColumn('MovieDuration',when(final.MovieDuration.isNotNull(),'Movie').otherwise(final.MovieDuration))\n",
        "caculate_taste = final.withColumn('ChildDuration',when(final.ChildDuration.isNotNull(),'Child').otherwise(final.ChildDuration))\n",
        "caculate_taste = final.withColumn('SportDuration',when(final.SportDuration.isNotNull(),'Sport').otherwise(final.SportDuration))\n",
        "caculate_taste = final.withColumn('TVDuration',when(final.TVDuration.isNotNull(),'TV').otherwise(final.TVDuration))\n",
        "caculate_taste = caculate_taste.withColumn('Taste', sf.concat_ws('-',*[c for c in caculate_taste.columns if c!='Contract']))\n",
        "caculate_taste = caculate_taste.select('Contract','Taste')"
      ],
      "metadata": {
        "id": "adMdN6uNPsMO"
      },
      "execution_count": null,
      "outputs": []
    },
    {
      "cell_type": "code",
      "source": [
        "final = final.join(most_watch,'Contract','inner')\n",
        "final = final.join(caculate_taste,'Contract','inner')"
      ],
      "metadata": {
        "id": "cM20QLgWPspE"
      },
      "execution_count": null,
      "outputs": []
    },
    {
      "cell_type": "code",
      "source": [
        "#final.show(10)"
      ],
      "metadata": {
        "colab": {
          "base_uri": "https://localhost:8080/"
        },
        "id": "93TIElkNP37G",
        "outputId": "5de7b58f-7af0-4790-be04-a88bc59a7f81"
      },
      "execution_count": null,
      "outputs": [
        {
          "output_type": "stream",
          "name": "stdout",
          "text": [
            "+--------------+-------------+-------------+-------------+-------------+----------+----------+-------+\n",
            "|      Contract|RelaxDuration|MovieDuration|ChildDuration|SportDuration|TVDuration|most_watch|  Taste|\n",
            "+--------------+-------------+-------------+-------------+-------------+----------+----------+-------+\n",
            "|             0|         null|         6127|         null|         null|6950351117|        TV|6127-TV|\n",
            "|113.182.209.48|           89|         null|         null|         null|        63|     Relax|  89-TV|\n",
            "|14.182.110.125|           92|         null|         null|         null|       404|        TV|  92-TV|\n",
            "|222.252.254.74|         null|         null|         null|         null|       358|        TV|     TV|\n",
            "|     AGAAA0338|         null|         null|         null|         null|    135831|        TV|     TV|\n",
            "|     AGAAA0342|         null|         null|         null|         null|     56161|        TV|     TV|\n",
            "|     AGAAA0346|         null|         null|         null|         null|   1011435|        TV|     TV|\n",
            "|     AGAAA0353|         null|         1665|         null|         null|     18196|        TV|1665-TV|\n",
            "|     AGAAA0366|         null|         null|         null|         null|    511486|        TV|     TV|\n",
            "|     AGAAA0370|         null|         null|         null|         null|   1260599|        TV|     TV|\n",
            "+--------------+-------------+-------------+-------------+-------------+----------+----------+-------+\n",
            "only showing top 10 rows\n",
            "\n"
          ]
        }
      ]
    },
    {
      "cell_type": "code",
      "source": [
        "final.repartition(1).write.csv('/content/drive/MyDrive/result_log_content', header=True,mode=\"overwrite\")"
      ],
      "metadata": {
        "id": "GoxgYMioQFps"
      },
      "execution_count": null,
      "outputs": []
    },
    {
      "cell_type": "code",
      "source": [
        "url = 'jdbc:mysql://' + 'localhost' + ':' + '3306' + '/' + 'data_engineer'\n",
        "driver = \"com.mysql.cj.jdbc.Driver\"\n",
        "user = 'root'\n",
        "password = ''"
      ],
      "metadata": {
        "id": "fKY62gy3QZSu"
      },
      "execution_count": null,
      "outputs": []
    },
    {
      "cell_type": "code",
      "source": [
        "#final.write.format('jdbc').option('url',url).option('driver',driver).option('dbtable','log_content').option('user',user).option('password',password).mode('append')"
      ],
      "metadata": {
        "id": "eQOKWVBMQdPR"
      },
      "execution_count": null,
      "outputs": []
    }
  ]
}